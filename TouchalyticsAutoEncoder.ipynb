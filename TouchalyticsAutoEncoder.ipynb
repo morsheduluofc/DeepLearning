{
  "nbformat": 4,
  "nbformat_minor": 0,
  "metadata": {
    "colab": {
      "name": "TAutoEncoder.ipynb",
      "provenance": []
    },
    "kernelspec": {
      "name": "python3",
      "display_name": "Python 3"
    }
  },
  "cells": [
    {
      "cell_type": "markdown",
      "metadata": {
        "id": "ZgBmRS-TA1l0"
      },
      "source": [
        "# AutoEncoder of Touchalytics Data\n",
        "\n",
        "-- Touchalytics uses users' touch data (up-down and left-right scrolling) when interacting with an app. It uses the collected touch data for user authentication. The system uses 30 behavioral features and data from 41 users. We downloaded touchalytics data from the link http://www.mariofrank.net/touchalytics/. We then cleaned the data by replacing 'NaN' and 'Infinity' by zero and dropped the 'doc id', 'phone id', and 'change of finger orientation' columns.\n",
        "\n",
        "-- We used oversampled data for AutoEncoder\n",
        "\n",
        "-- We then measure the difference between an input vector and recovered vector of AutoEncoder."
      ]
    },
    {
      "cell_type": "code",
      "metadata": {
        "id": "whrm6P_KA2Xf"
      },
      "source": [
        "#import all necessary package\n",
        "import numpy as np\n",
        "import pandas as pd\n",
        "import matplotlib.pyplot as plt"
      ],
      "execution_count": 7,
      "outputs": []
    },
    {
      "cell_type": "code",
      "metadata": {
        "id": "ix6W7Ee8BjA1"
      },
      "source": [
        "#use tensorflow version 1.x\n",
        "%tensorflow_version 1.x"
      ],
      "execution_count": 17,
      "outputs": []
    },
    {
      "cell_type": "code",
      "metadata": {
        "id": "SEZj_ZFHMZGp",
        "colab": {
          "base_uri": "https://localhost:8080/"
        },
        "outputId": "600567e4-0bbe-46f3-a70b-767b863bbfde"
      },
      "source": [
        "#read all oversampled data\n",
        "import csv\n",
        "import pandas as pd\n",
        "with open('Data/AllOversampledNTData.csv') as csvfile:\n",
        "    dataSet = list(csv.reader(csvfile, delimiter=','))\n",
        "dfdataSet = pd.DataFrame(dataSet[0:][:])\n",
        "dfdataSet.columns=['F1','F2','F3','F4','F5','F6','F7','F8','F9','F10','F11','F12','F13','F14','F15','F16','F17','F18','F19',\n",
        "            'F20','F21','F22','F23','F24','F25','F26','F27','F28','F29','F30','ID']\n",
        "print('Successfully read all data..')"
      ],
      "execution_count": 18,
      "outputs": [
        {
          "output_type": "stream",
          "text": [
            "Successfully read all data..\n"
          ],
          "name": "stdout"
        }
      ]
    },
    {
      "cell_type": "code",
      "metadata": {
        "id": "HYtyRJ__MkxQ"
      },
      "source": [
        "#Use dataframe and set column name\n",
        "import numpy as np\n",
        "import random\n",
        "from sklearn.utils import shuffle\n",
        "columnsN=['F1','F2','F3','F4','F5','F6','F7','F8','F9','F10','F11','F12','F13','F14','F15','F16','F17','F18','F19',\n",
        "            'F20','F21','F22','F23','F24','F25','F26','F27','F28','F29','F30','ID']\n",
        "columnsF=['F1','F2','F3','F4','F5','F6','F7','F8','F9','F10','F11','F12','F13','F14','F15','F16','F17','F18','F19',\n",
        "            'F20','F21','F22','F23','F24','F25','F26','F27','F28','F29','F30']\n",
        "\n",
        "fdataSet = pd.DataFrame(columns = columnsN)\n",
        "\n",
        "#print(fdataSet)\n",
        "for i in range (0,41):\n",
        "  #fdataSet=fdataSet.append(shuffle(dfdataSet[1000*(i-1):i*1000]),ignore_index = True)\n",
        "  fdataSet=fdataSet.append(dfdataSet[2000*i+1:(i+1)*2000+1])\n",
        "\n",
        "fDataSet=fdataSet.drop(columns=['ID'])\n",
        "#fDataSet=standardize(fDataSet,columns=columnsF)\n",
        "\n",
        "fIDSet = pd.DataFrame(columns = ['ID'])\n",
        "fIDSet=fdataSet['ID']\n",
        "for i in range (0,41):\n",
        "  fIDSet[2000*i:(i+1)*2000]=i\n",
        "\n",
        "#fDataSet['ID'] = fIDSet"
      ],
      "execution_count": 19,
      "outputs": []
    },
    {
      "cell_type": "code",
      "metadata": {
        "id": "LZ867myNMoE4"
      },
      "source": [
        "#Seperate the oversampled data in [tranning set, validation set and test set] of all users\n",
        "import numpy as np\n",
        "from numpy import array\n",
        "from keras.utils import to_categorical\n",
        "from sklearn.model_selection import train_test_split\n",
        "\n",
        "X1=fDataSet[:39999]\n",
        "y1=fIDSet[:39999]\n",
        "X2=fDataSet[40000:79999]\n",
        "y2=fIDSet[40000:79999]\n",
        "y2=y2-20\n",
        "\n",
        "#print(y1.shape)\n",
        "#print(X2)\n",
        "#print(y2)\n",
        "\n",
        "#Divide first 97 uses data in tranning set, validation set and test set for 97 users\n",
        "#X1_train, X1_test, y1_train, y1_test = train_test_split(X1, y1, test_size=0.30, random_state=22,stratify=y1)\n",
        "X1_train, X1_test, y1_train, y1_test = train_test_split(X1, y1, test_size=0.2, random_state=22)\n",
        "X1_train, X1_val, y1_train, y1_val = train_test_split(X1_train, y1_train, test_size=0.2, random_state=22)\n",
        "\n",
        "y1_train = to_categorical(y1_train)\n",
        "y1_val = to_categorical(y1_val)\n",
        "y1_test = to_categorical(y1_test)\n",
        "\n",
        "#Divide next 97 uses data in tranning set, validation set and test set for 97 users\n",
        "#X1_train, X1_test, y1_train, y1_test = train_test_split(X1, y1, test_size=0.30, random_state=22,stratify=y1)\n",
        "X2_train, X2_test, y2_train, y2_test = train_test_split(X2, y2, test_size=0.2, random_state=22)\n",
        "X2_train, X2_val, y2_train, y2_val = train_test_split(X2_train, y2_train, test_size=0.2, random_state=22)\n",
        "\n",
        "y2T=y2_train\n",
        "y2V=y2_val\n",
        "y2Te=y2_test\n",
        "y2_train = to_categorical(y2_train)\n",
        "y2_val = to_categorical(y2_val)\n",
        "y2_test = to_categorical(y2_test)"
      ],
      "execution_count": 20,
      "outputs": []
    },
    {
      "cell_type": "code",
      "metadata": {
        "id": "L2Ln6UH-MsG9",
        "colab": {
          "base_uri": "https://localhost:8080/"
        },
        "outputId": "718d919b-86f2-4789-ee00-d7c4f839ba53"
      },
      "source": [
        "#print the shape of training, test and validation data\n",
        "print(X2_train.shape)\n",
        "print(X2_val.shape)\n",
        "print(X2_test.shape)"
      ],
      "execution_count": 21,
      "outputs": [
        {
          "output_type": "stream",
          "text": [
            "(25599, 30)\n",
            "(6400, 30)\n",
            "(8000, 30)\n"
          ],
          "name": "stdout"
        }
      ]
    },
    {
      "cell_type": "code",
      "metadata": {
        "id": "YcM59RbvM1tj"
      },
      "source": [
        "#import necessary packages for autoencoder\n",
        "from keras.layers import Dense, Dropout, Input,Activation,Dropout, Flatten\n",
        "from keras.models import Model,Sequential\n",
        "from keras.datasets import mnist\n",
        "from tqdm import tqdm\n",
        "from keras.layers.advanced_activations import LeakyReLU\n",
        "from keras.layers import BatchNormalization\n",
        "from keras.optimizers import Adam\n",
        "import torch.nn.functional as F\n",
        "import warnings\n",
        "warnings.filterwarnings('ignore')"
      ],
      "execution_count": 22,
      "outputs": []
    },
    {
      "cell_type": "code",
      "metadata": {
        "id": "ttf7YGDaNPBI"
      },
      "source": [
        "#Construct an autoencoder\n",
        "input_data = Input(shape=(30,))\n",
        "encoded = Dense(25, activation='relu')(input_data)\n",
        "#encoded = Dense(10, activation='relu')(encoded)\n",
        "#encoded = Dense(2, activation='relu')(encoded)\n",
        "\n",
        "#decoded = Dense(10, activation='relu')(encoded)\n",
        "#decoded = Dense(20, activation='relu')(decoded)\n",
        "decoded = Dense(30, activation='sigmoid')(encoded)\n",
        "\n",
        "# this model maps an input to its reconstruction\n",
        "autoencoder = Model(input_data, decoded)"
      ],
      "execution_count": 26,
      "outputs": []
    },
    {
      "cell_type": "code",
      "metadata": {
        "id": "wMHGN-EJPX9y"
      },
      "source": [
        "#Seperate the decoder\n",
        "encoder = Model(input_data, encoded)\n",
        "\n",
        "# create a placeholder for an encoded (32-dimensional) input\n",
        "encoded_input = Input(shape=(25,))\n",
        "# retrieve the last layer of the autoencoder model\n",
        "decoder_layer = autoencoder.layers[-1]\n",
        "# create the decoder model\n",
        "decoder = Model(encoded_input, decoder_layer(encoded_input))\n"
      ],
      "execution_count": 27,
      "outputs": []
    },
    {
      "cell_type": "code",
      "metadata": {
        "id": "ljng3PFbOp5z",
        "colab": {
          "base_uri": "https://localhost:8080/"
        },
        "outputId": "cbd4eac5-6957-4e49-e4a9-2ea9db74efc8"
      },
      "source": [
        "autoencoder.compile(optimizer='adadelta', loss='mse')\n",
        "autoencoder.fit(X2_train, X2_train, epochs=50, batch_size=256, shuffle=True,validation_data=(X2_val, X2_val))"
      ],
      "execution_count": 30,
      "outputs": [
        {
          "output_type": "stream",
          "text": [
            "Train on 25599 samples, validate on 6400 samples\n",
            "Epoch 1/50\n",
            "25599/25599 [==============================] - 1s 39us/step - loss: 0.0600 - val_loss: 0.0185\n",
            "Epoch 2/50\n",
            "25599/25599 [==============================] - 1s 35us/step - loss: 0.0165 - val_loss: 0.0150\n",
            "Epoch 3/50\n",
            "25599/25599 [==============================] - 1s 35us/step - loss: 0.0151 - val_loss: 0.0142\n",
            "Epoch 4/50\n",
            "25599/25599 [==============================] - 1s 34us/step - loss: 0.0143 - val_loss: 0.0135\n",
            "Epoch 5/50\n",
            "25599/25599 [==============================] - 1s 34us/step - loss: 0.0136 - val_loss: 0.0128\n",
            "Epoch 6/50\n",
            "25599/25599 [==============================] - 1s 35us/step - loss: 0.0129 - val_loss: 0.0121\n",
            "Epoch 7/50\n",
            "25599/25599 [==============================] - 1s 35us/step - loss: 0.0122 - val_loss: 0.0115\n",
            "Epoch 8/50\n",
            "25599/25599 [==============================] - 1s 34us/step - loss: 0.0116 - val_loss: 0.0109\n",
            "Epoch 9/50\n",
            "25599/25599 [==============================] - 1s 35us/step - loss: 0.0111 - val_loss: 0.0104\n",
            "Epoch 10/50\n",
            "25599/25599 [==============================] - 1s 36us/step - loss: 0.0105 - val_loss: 0.0099\n",
            "Epoch 11/50\n",
            "25599/25599 [==============================] - 1s 36us/step - loss: 0.0101 - val_loss: 0.0095\n",
            "Epoch 12/50\n",
            "25599/25599 [==============================] - 1s 34us/step - loss: 0.0097 - val_loss: 0.0091\n",
            "Epoch 13/50\n",
            "25599/25599 [==============================] - 1s 35us/step - loss: 0.0093 - val_loss: 0.0088\n",
            "Epoch 14/50\n",
            "25599/25599 [==============================] - 1s 35us/step - loss: 0.0090 - val_loss: 0.0085\n",
            "Epoch 15/50\n",
            "25599/25599 [==============================] - 1s 36us/step - loss: 0.0087 - val_loss: 0.0082\n",
            "Epoch 16/50\n",
            "25599/25599 [==============================] - 1s 35us/step - loss: 0.0084 - val_loss: 0.0080\n",
            "Epoch 17/50\n",
            "25599/25599 [==============================] - 1s 36us/step - loss: 0.0082 - val_loss: 0.0077\n",
            "Epoch 18/50\n",
            "25599/25599 [==============================] - 1s 35us/step - loss: 0.0079 - val_loss: 0.0075\n",
            "Epoch 19/50\n",
            "25599/25599 [==============================] - 1s 35us/step - loss: 0.0077 - val_loss: 0.0073\n",
            "Epoch 20/50\n",
            "25599/25599 [==============================] - 1s 35us/step - loss: 0.0075 - val_loss: 0.0071\n",
            "Epoch 21/50\n",
            "25599/25599 [==============================] - 1s 35us/step - loss: 0.0073 - val_loss: 0.0069\n",
            "Epoch 22/50\n",
            "25599/25599 [==============================] - 1s 35us/step - loss: 0.0071 - val_loss: 0.0067\n",
            "Epoch 23/50\n",
            "25599/25599 [==============================] - 1s 35us/step - loss: 0.0069 - val_loss: 0.0066\n",
            "Epoch 24/50\n",
            "25599/25599 [==============================] - 1s 36us/step - loss: 0.0067 - val_loss: 0.0064\n",
            "Epoch 25/50\n",
            "25599/25599 [==============================] - 1s 35us/step - loss: 0.0066 - val_loss: 0.0062\n",
            "Epoch 26/50\n",
            "25599/25599 [==============================] - 1s 34us/step - loss: 0.0064 - val_loss: 0.0061\n",
            "Epoch 27/50\n",
            "25599/25599 [==============================] - 1s 34us/step - loss: 0.0062 - val_loss: 0.0059\n",
            "Epoch 28/50\n",
            "25599/25599 [==============================] - 1s 34us/step - loss: 0.0061 - val_loss: 0.0058\n",
            "Epoch 29/50\n",
            "25599/25599 [==============================] - 1s 36us/step - loss: 0.0059 - val_loss: 0.0056\n",
            "Epoch 30/50\n",
            "25599/25599 [==============================] - 1s 34us/step - loss: 0.0058 - val_loss: 0.0055\n",
            "Epoch 31/50\n",
            "25599/25599 [==============================] - 1s 34us/step - loss: 0.0056 - val_loss: 0.0054\n",
            "Epoch 32/50\n",
            "25599/25599 [==============================] - 1s 35us/step - loss: 0.0055 - val_loss: 0.0052\n",
            "Epoch 33/50\n",
            "25599/25599 [==============================] - 1s 35us/step - loss: 0.0053 - val_loss: 0.0051\n",
            "Epoch 34/50\n",
            "25599/25599 [==============================] - 1s 35us/step - loss: 0.0052 - val_loss: 0.0050\n",
            "Epoch 35/50\n",
            "25599/25599 [==============================] - 1s 35us/step - loss: 0.0051 - val_loss: 0.0048\n",
            "Epoch 36/50\n",
            "25599/25599 [==============================] - 1s 36us/step - loss: 0.0049 - val_loss: 0.0047\n",
            "Epoch 37/50\n",
            "25599/25599 [==============================] - 1s 34us/step - loss: 0.0048 - val_loss: 0.0046\n",
            "Epoch 38/50\n",
            "25599/25599 [==============================] - 1s 35us/step - loss: 0.0047 - val_loss: 0.0045\n",
            "Epoch 39/50\n",
            "25599/25599 [==============================] - 1s 36us/step - loss: 0.0046 - val_loss: 0.0044\n",
            "Epoch 40/50\n",
            "25599/25599 [==============================] - 1s 35us/step - loss: 0.0044 - val_loss: 0.0042\n",
            "Epoch 41/50\n",
            "25599/25599 [==============================] - 1s 35us/step - loss: 0.0043 - val_loss: 0.0041\n",
            "Epoch 42/50\n",
            "25599/25599 [==============================] - 1s 34us/step - loss: 0.0042 - val_loss: 0.0040\n",
            "Epoch 43/50\n",
            "25599/25599 [==============================] - 1s 34us/step - loss: 0.0041 - val_loss: 0.0039\n",
            "Epoch 44/50\n",
            "25599/25599 [==============================] - 1s 35us/step - loss: 0.0040 - val_loss: 0.0038\n",
            "Epoch 45/50\n",
            "25599/25599 [==============================] - 1s 35us/step - loss: 0.0039 - val_loss: 0.0037\n",
            "Epoch 46/50\n",
            "25599/25599 [==============================] - 1s 34us/step - loss: 0.0038 - val_loss: 0.0036\n",
            "Epoch 47/50\n",
            "25599/25599 [==============================] - 1s 34us/step - loss: 0.0037 - val_loss: 0.0036\n",
            "Epoch 48/50\n",
            "25599/25599 [==============================] - 1s 35us/step - loss: 0.0036 - val_loss: 0.0035\n",
            "Epoch 49/50\n",
            "25599/25599 [==============================] - 1s 34us/step - loss: 0.0035 - val_loss: 0.0034\n",
            "Epoch 50/50\n",
            "25599/25599 [==============================] - 1s 35us/step - loss: 0.0035 - val_loss: 0.0033\n"
          ],
          "name": "stdout"
        },
        {
          "output_type": "execute_result",
          "data": {
            "text/plain": [
              "<keras.callbacks.callbacks.History at 0x7f6f4877da90>"
            ]
          },
          "metadata": {
            "tags": []
          },
          "execution_count": 30
        }
      ]
    },
    {
      "cell_type": "code",
      "metadata": {
        "id": "EeGcYTo0PRfY"
      },
      "source": [
        "# encode and decode the test data\n",
        "encoded_data = encoder.predict(X2_test)\n",
        "decoded_data = decoder.predict(encoded_data)"
      ],
      "execution_count": 31,
      "outputs": []
    },
    {
      "cell_type": "code",
      "metadata": {
        "id": "4d6WHdwJQiBQ",
        "colab": {
          "base_uri": "https://localhost:8080/",
          "height": 279
        },
        "outputId": "1eee316a-f721-4246-cbcf-3db262c9be3c"
      },
      "source": [
        "#Show the difference between input and recovered vector\n",
        "import matplotlib.pyplot as plt\n",
        "#plt.style.use('classic')\n",
        "#matplotlib inline\n",
        "import pandas as pd\n",
        "import numpy as np\n",
        "i=300\n",
        "X2_Out=autoencoder.predict(X2_test)\n",
        "\n",
        "Y2=X2_test[i:i+1].values\n",
        "Y2=Y2.reshape(-1)\n",
        "Yi2=Y2.astype(float)\n",
        "\n",
        "Xl = [i for i in range(30)]\n",
        "Y1=array(X2_Out[i:i+1])\n",
        "Yo1=Y1.reshape(-1)\n",
        "\n",
        "plt.plot(Xl,Yi2,'--*r',label='Input vector')\n",
        "plt.plot(Xl,Yo1,'--*b', label='Output vector')\n",
        "#plt.plot(X1,Y11,'--g', label='Predicted value')\n",
        "\n",
        "plt.legend(loc='upper left', frameon=False)\n",
        "plt.ylim([0,1.3])\n",
        "plt.xlabel('feature index')\n",
        "plt.ylabel('value')\n",
        "plt.show()"
      ],
      "execution_count": 32,
      "outputs": [
        {
          "output_type": "display_data",
          "data": {
            "image/png": "[encoded data removed]",
            "text/plain": [
              "<Figure size 432x288 with 1 Axes>"
            ]
          },
          "metadata": {
            "tags": [],
            "needs_background": "light"
          }
        }
      ]
    }
  ]
}